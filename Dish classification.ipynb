{
 "cells": [
  {
   "cell_type": "code",
   "execution_count": 34,
   "id": "e6148939",
   "metadata": {},
   "outputs": [],
   "source": [
    "import tensorflow as tf\n"
   ]
  },
  {
   "cell_type": "markdown",
   "id": "26281182",
   "metadata": {},
   "source": [
    "# Data Preprocessing\n"
   ]
  },
  {
   "cell_type": "code",
   "execution_count": 35,
   "id": "3617728b",
   "metadata": {},
   "outputs": [],
   "source": [
    "from keras.preprocessing.image import ImageDataGenerator"
   ]
  },
  {
   "cell_type": "code",
   "execution_count": 36,
   "id": "a3b8a5b3",
   "metadata": {},
   "outputs": [],
   "source": [
    "train_datagen = ImageDataGenerator(rescale = 1./255,\n",
    "                                   shear_range = 0.2,\n",
    "                                   zoom_range = 0.2,\n",
    "                                   horizontal_flip = True,validation_split = 0.2)\n"
   ]
  },
  {
   "cell_type": "code",
   "execution_count": 37,
   "id": "db255987",
   "metadata": {},
   "outputs": [
    {
     "name": "stdout",
     "output_type": "stream",
     "text": [
      "Found 1600 images belonging to 2 classes.\n"
     ]
    }
   ],
   "source": [
    "training_set = train_datagen.flow_from_directory('Dish',\n",
    "                                                 target_size = (64, 64),\n",
    "                                                 batch_size = 32,\n",
    "                                                 class_mode = 'binary',\n",
    "                                                 subset = 'training')"
   ]
  },
  {
   "cell_type": "code",
   "execution_count": 38,
   "id": "f007296c",
   "metadata": {},
   "outputs": [],
   "source": [
    "test_datagen = ImageDataGenerator(rescale = 1./255,validation_split = 0.2)"
   ]
  },
  {
   "cell_type": "code",
   "execution_count": 39,
   "id": "ff3827c5",
   "metadata": {},
   "outputs": [
    {
     "name": "stdout",
     "output_type": "stream",
     "text": [
      "Found 400 images belonging to 2 classes.\n"
     ]
    }
   ],
   "source": [
    "\n",
    "test_set = test_datagen.flow_from_directory('Dish',\n",
    "                                            target_size = (64, 64),\n",
    "                                            batch_size = 32,\n",
    "                                            class_mode = 'binary',\n",
    "                                           subset = 'validation')"
   ]
  },
  {
   "cell_type": "code",
   "execution_count": 40,
   "id": "d77f19cc",
   "metadata": {},
   "outputs": [],
   "source": [
    "cnn = tf.keras.models.Sequential()"
   ]
  },
  {
   "cell_type": "markdown",
   "id": "bef23c1d",
   "metadata": {},
   "source": [
    "## CONVOLUTION LAYER 1"
   ]
  },
  {
   "cell_type": "code",
   "execution_count": 41,
   "id": "db8987af",
   "metadata": {},
   "outputs": [],
   "source": [
    "cnn.add(tf.keras.layers.Conv2D(filters=32, kernel_size=3, activation='relu', input_shape=[64, 64, 3]))\n",
    "cnn.add(tf.keras.layers.MaxPool2D(pool_size=2, strides=2))"
   ]
  },
  {
   "cell_type": "markdown",
   "id": "602e761f",
   "metadata": {},
   "source": [
    "## CONVOLUTION LAYER 2"
   ]
  },
  {
   "cell_type": "code",
   "execution_count": 42,
   "id": "5dbee77f",
   "metadata": {},
   "outputs": [],
   "source": [
    "cnn.add(tf.keras.layers.Conv2D(filters=32, kernel_size=3, activation='relu'))\n",
    "cnn.add(tf.keras.layers.MaxPool2D(pool_size=2, strides=2))"
   ]
  },
  {
   "cell_type": "code",
   "execution_count": 43,
   "id": "2adfd43c",
   "metadata": {},
   "outputs": [],
   "source": [
    "cnn.add(tf.keras.layers.Flatten())"
   ]
  },
  {
   "cell_type": "code",
   "execution_count": 44,
   "id": "df50981c",
   "metadata": {},
   "outputs": [],
   "source": [
    "cnn.add(tf.keras.layers.Dense(units=128, activation='relu'))"
   ]
  },
  {
   "cell_type": "code",
   "execution_count": 45,
   "id": "2c468dd0",
   "metadata": {},
   "outputs": [],
   "source": [
    "cnn.add(tf.keras.layers.Dense(units=1, activation='sigmoid'))"
   ]
  },
  {
   "cell_type": "code",
   "execution_count": 46,
   "id": "dff80c31",
   "metadata": {},
   "outputs": [],
   "source": [
    "cnn.compile(optimizer = 'adam', loss = 'binary_crossentropy', metrics = ['accuracy'])"
   ]
  },
  {
   "cell_type": "code",
   "execution_count": 47,
   "id": "9ba3ee68",
   "metadata": {},
   "outputs": [
    {
     "name": "stdout",
     "output_type": "stream",
     "text": [
      "Model: \"sequential_2\"\n",
      "_________________________________________________________________\n",
      " Layer (type)                Output Shape              Param #   \n",
      "=================================================================\n",
      " conv2d_4 (Conv2D)           (None, 62, 62, 32)        896       \n",
      "                                                                 \n",
      " max_pooling2d_4 (MaxPooling  (None, 31, 31, 32)       0         \n",
      " 2D)                                                             \n",
      "                                                                 \n",
      " conv2d_5 (Conv2D)           (None, 29, 29, 32)        9248      \n",
      "                                                                 \n",
      " max_pooling2d_5 (MaxPooling  (None, 14, 14, 32)       0         \n",
      " 2D)                                                             \n",
      "                                                                 \n",
      " flatten_2 (Flatten)         (None, 6272)              0         \n",
      "                                                                 \n",
      " dense_4 (Dense)             (None, 128)               802944    \n",
      "                                                                 \n",
      " dense_5 (Dense)             (None, 1)                 129       \n",
      "                                                                 \n",
      "=================================================================\n",
      "Total params: 813,217\n",
      "Trainable params: 813,217\n",
      "Non-trainable params: 0\n",
      "_________________________________________________________________\n"
     ]
    }
   ],
   "source": [
    "cnn.summary()"
   ]
  },
  {
   "cell_type": "code",
   "execution_count": 48,
   "id": "cb0364f1",
   "metadata": {},
   "outputs": [],
   "source": [
    "earlystopping=tf.keras.callbacks.EarlyStopping(\n",
    "    monitor=\"val_loss\",\n",
    "    min_delta=0.0001,\n",
    "    patience=5,\n",
    "    verbose=1,\n",
    "    mode=\"auto\",\n",
    "    baseline=None,\n",
    "    restore_best_weights=False,\n",
    ")"
   ]
  },
  {
   "cell_type": "code",
   "execution_count": 49,
   "id": "10efb92e",
   "metadata": {
    "scrolled": true
   },
   "outputs": [
    {
     "name": "stdout",
     "output_type": "stream",
     "text": [
      "Epoch 1/25\n",
      "50/50 [==============================] - 27s 507ms/step - loss: 0.6827 - accuracy: 0.6119 - val_loss: 0.5727 - val_accuracy: 0.6900\n",
      "Epoch 2/25\n",
      "50/50 [==============================] - 25s 498ms/step - loss: 0.5729 - accuracy: 0.7075 - val_loss: 0.5453 - val_accuracy: 0.6900\n",
      "Epoch 3/25\n",
      "50/50 [==============================] - 25s 492ms/step - loss: 0.5384 - accuracy: 0.7350 - val_loss: 0.5283 - val_accuracy: 0.7275\n",
      "Epoch 4/25\n",
      "50/50 [==============================] - 25s 502ms/step - loss: 0.5179 - accuracy: 0.7469 - val_loss: 0.5288 - val_accuracy: 0.7425\n",
      "Epoch 5/25\n",
      "50/50 [==============================] - 24s 482ms/step - loss: 0.5054 - accuracy: 0.7550 - val_loss: 0.5025 - val_accuracy: 0.7625\n",
      "Epoch 6/25\n",
      "50/50 [==============================] - 25s 503ms/step - loss: 0.4830 - accuracy: 0.7769 - val_loss: 0.4857 - val_accuracy: 0.7650\n",
      "Epoch 7/25\n",
      "50/50 [==============================] - 25s 494ms/step - loss: 0.5042 - accuracy: 0.7625 - val_loss: 0.5107 - val_accuracy: 0.7500\n",
      "Epoch 8/25\n",
      "50/50 [==============================] - 26s 518ms/step - loss: 0.4659 - accuracy: 0.7937 - val_loss: 0.5049 - val_accuracy: 0.7525\n",
      "Epoch 9/25\n",
      "50/50 [==============================] - 25s 496ms/step - loss: 0.4529 - accuracy: 0.7906 - val_loss: 0.6638 - val_accuracy: 0.7175\n",
      "Epoch 10/25\n",
      "50/50 [==============================] - 27s 531ms/step - loss: 0.4471 - accuracy: 0.7937 - val_loss: 0.5563 - val_accuracy: 0.7450\n",
      "Epoch 11/25\n",
      "50/50 [==============================] - 25s 504ms/step - loss: 0.4331 - accuracy: 0.7981 - val_loss: 0.4777 - val_accuracy: 0.7875\n",
      "Epoch 12/25\n",
      "50/50 [==============================] - 25s 502ms/step - loss: 0.4132 - accuracy: 0.8188 - val_loss: 0.4448 - val_accuracy: 0.7950\n",
      "Epoch 13/25\n",
      "50/50 [==============================] - 26s 516ms/step - loss: 0.3923 - accuracy: 0.8181 - val_loss: 0.5029 - val_accuracy: 0.7775\n",
      "Epoch 14/25\n",
      "50/50 [==============================] - 25s 496ms/step - loss: 0.3839 - accuracy: 0.8325 - val_loss: 0.4586 - val_accuracy: 0.7825\n",
      "Epoch 15/25\n",
      "50/50 [==============================] - 25s 500ms/step - loss: 0.4020 - accuracy: 0.8087 - val_loss: 0.5152 - val_accuracy: 0.7825\n",
      "Epoch 16/25\n",
      "50/50 [==============================] - 27s 540ms/step - loss: 0.3925 - accuracy: 0.8181 - val_loss: 0.5375 - val_accuracy: 0.7500\n",
      "Epoch 17/25\n",
      "50/50 [==============================] - 28s 554ms/step - loss: 0.3675 - accuracy: 0.8400 - val_loss: 0.4389 - val_accuracy: 0.8050\n",
      "Epoch 18/25\n",
      "50/50 [==============================] - 27s 542ms/step - loss: 0.3384 - accuracy: 0.8506 - val_loss: 0.4765 - val_accuracy: 0.8050\n",
      "Epoch 19/25\n",
      "50/50 [==============================] - 26s 528ms/step - loss: 0.3271 - accuracy: 0.8594 - val_loss: 0.4973 - val_accuracy: 0.7950\n",
      "Epoch 20/25\n",
      "50/50 [==============================] - 26s 524ms/step - loss: 0.3398 - accuracy: 0.8469 - val_loss: 0.4575 - val_accuracy: 0.8000\n",
      "Epoch 21/25\n",
      "50/50 [==============================] - 27s 539ms/step - loss: 0.3301 - accuracy: 0.8569 - val_loss: 0.5505 - val_accuracy: 0.7900\n",
      "Epoch 22/25\n",
      "50/50 [==============================] - 25s 508ms/step - loss: 0.3208 - accuracy: 0.8625 - val_loss: 0.5578 - val_accuracy: 0.7750\n",
      "Epoch 22: early stopping\n"
     ]
    },
    {
     "data": {
      "text/plain": [
       "<keras.callbacks.History at 0x287b2a5b730>"
      ]
     },
     "execution_count": 49,
     "metadata": {},
     "output_type": "execute_result"
    }
   ],
   "source": [
    "cnn.fit(x = training_set, validation_data = test_set, epochs = 25,callbacks=earlystopping)"
   ]
  },
  {
   "cell_type": "code",
   "execution_count": 56,
   "id": "3e301278",
   "metadata": {},
   "outputs": [],
   "source": [
    "import numpy as np\n",
    "from keras.preprocessing import image\n",
    "test_image = image.load_img('Dish/test/2100.jpg',target_size = (64, 64))\n",
    "test_image = image.img_to_array(test_image)\n",
    "test_image = np.expand_dims(test_image, axis = 0)\n",
    "result = cnn.predict(test_image/255.0)\n",
    "training_set.class_indices\n",
    "if result[0][0] > 0.5:\n",
    "  prediction = 'rice'\n",
    "else:\n",
    "  prediction = 'curry'"
   ]
  },
  {
   "cell_type": "code",
   "execution_count": 57,
   "id": "ca38505d",
   "metadata": {},
   "outputs": [
    {
     "name": "stdout",
     "output_type": "stream",
     "text": [
      "curry\n"
     ]
    }
   ],
   "source": [
    "print(prediction)"
   ]
  },
  {
   "cell_type": "code",
   "execution_count": 58,
   "id": "bdd16552",
   "metadata": {},
   "outputs": [],
   "source": [
    "import numpy as np\n",
    "from keras.preprocessing import image\n",
    "test_image = image.load_img('Dish/test/1391.jpg',target_size = (64, 64))\n",
    "test_image = image.img_to_array(test_image)\n",
    "test_image = np.expand_dims(test_image, axis = 0)\n",
    "result = cnn.predict(test_image/255.0)\n",
    "training_set.class_indices\n",
    "if result[0][0] > 0.5:\n",
    "  prediction = 'rice'\n",
    "else:\n",
    "  prediction = 'curry'"
   ]
  },
  {
   "cell_type": "code",
   "execution_count": 59,
   "id": "bd22c87c",
   "metadata": {},
   "outputs": [
    {
     "name": "stdout",
     "output_type": "stream",
     "text": [
      "rice\n"
     ]
    }
   ],
   "source": [
    "print(prediction)"
   ]
  },
  {
   "cell_type": "code",
   "execution_count": 60,
   "id": "7db9163a",
   "metadata": {},
   "outputs": [],
   "source": [
    "import numpy as np\n",
    "from keras.preprocessing import image\n",
    "test_image = image.load_img('Dish/test/43038.jpg',target_size = (64, 64))\n",
    "test_image = image.img_to_array(test_image)\n",
    "test_image = np.expand_dims(test_image, axis = 0)\n",
    "result = cnn.predict(test_image/255.0)\n",
    "training_set.class_indices\n",
    "if result[0][0] > 0.5:\n",
    "  prediction = 'rice'\n",
    "else:\n",
    "  prediction = 'curry'"
   ]
  },
  {
   "cell_type": "code",
   "execution_count": 61,
   "id": "48a67159",
   "metadata": {},
   "outputs": [
    {
     "name": "stdout",
     "output_type": "stream",
     "text": [
      "curry\n"
     ]
    }
   ],
   "source": [
    "print(prediction)"
   ]
  },
  {
   "cell_type": "code",
   "execution_count": 62,
   "id": "696cba87",
   "metadata": {},
   "outputs": [],
   "source": [
    "import numpy as np\n",
    "from keras.preprocessing import image\n",
    "test_image = image.load_img('Dish/test/7020.jpg',target_size = (64, 64))\n",
    "test_image = image.img_to_array(test_image)\n",
    "test_image = np.expand_dims(test_image, axis = 0)\n",
    "result = cnn.predict(test_image/255.0)\n",
    "training_set.class_indices\n",
    "if result[0][0] > 0.5:\n",
    "  prediction = 'rice'\n",
    "else:\n",
    "  prediction = 'curry'"
   ]
  },
  {
   "cell_type": "code",
   "execution_count": 63,
   "id": "fbed5df6",
   "metadata": {},
   "outputs": [
    {
     "name": "stdout",
     "output_type": "stream",
     "text": [
      "curry\n"
     ]
    }
   ],
   "source": [
    "print(prediction)"
   ]
  },
  {
   "cell_type": "code",
   "execution_count": null,
   "id": "4239b2f7",
   "metadata": {},
   "outputs": [],
   "source": []
  }
 ],
 "metadata": {
  "kernelspec": {
   "display_name": "Python 3",
   "language": "python",
   "name": "python3"
  },
  "language_info": {
   "codemirror_mode": {
    "name": "ipython",
    "version": 3
   },
   "file_extension": ".py",
   "mimetype": "text/x-python",
   "name": "python",
   "nbconvert_exporter": "python",
   "pygments_lexer": "ipython3",
   "version": "3.8.8"
  }
 },
 "nbformat": 4,
 "nbformat_minor": 5
}
